{
 "cells": [
  {
   "cell_type": "markdown",
   "metadata": {},
   "source": [
    "# KNN Classification"
   ]
  },
  {
   "cell_type": "code",
   "execution_count": 1,
   "metadata": {
    "collapsed": true
   },
   "outputs": [],
   "source": [
    "# Import libraries\n",
    "import numpy as np\n",
    "import matplotlib.pyplot as plt\n",
    "%matplotlib inline"
   ]
  },
  {
   "cell_type": "code",
   "execution_count": 12,
   "metadata": {},
   "outputs": [],
   "source": [
    "#Cluster creation\n",
    "\n",
    "mean_01=np.array([0.0,10.0])\n",
    "mean_02=np.array([3.0,3.0])\n",
    "mean_03=np.array([11.0,11.0])\n",
    "\n",
    "cov_01=np.array([[1,.1],\n",
    "                [.1,1]])\n",
    "\n",
    "cov_02=np.array([[2,.2],\n",
    "                [.2,2]])\n",
    "\n",
    "cov_03=np.array([[3,.3],\n",
    "                [.3,3]])\n",
    "data_01=np.random.multivariate_normal(mean_01,cov_01,500)\n",
    "data_02=np.random.multivariate_normal(mean_02,cov_02,500)\n",
    "data_03=np.random.multivariate_normal(mean_03,cov_03,500)\n",
    "               \n"
   ]
  },
  {
   "cell_type": "code",
   "execution_count": 32,
   "metadata": {},
   "outputs": [
    {
     "data": {
      "image/png": "[encoded data removed]",
      "text/plain": [
       "<matplotlib.figure.Figure at 0x12e5c2bca58>"
      ]
     },
     "metadata": {},
     "output_type": "display_data"
    }
   ],
   "source": [
    "# Plotting cluster\n",
    "\n",
    "plt.scatter(data_01[:,0],data_01[:,1])\n",
    "plt.scatter(data_02[:,0],data_02[:,1])\n",
    "plt.scatter(data_03[:,0],data_03[:,1])\n",
    "plt.scatter(2,3)\n",
    "plt.show()"
   ]
  },
  {
   "cell_type": "code",
   "execution_count": 23,
   "metadata": {},
   "outputs": [
    {
     "data": {
      "text/plain": [
       "(1500, 3)"
      ]
     },
     "execution_count": 23,
     "metadata": {},
     "output_type": "execute_result"
    }
   ],
   "source": [
    "label=np.zeros((1500,1))\n",
    "label[500:1000]=1\n",
    "label[1000:]=2\n",
    "data1=np.concatenate((data_01,data_02,data_03),axis=0)\n",
    "data=np.concatenate((data1,label),axis=1)\n",
    "data.shape"
   ]
  },
  {
   "cell_type": "code",
   "execution_count": 28,
   "metadata": {
    "collapsed": true
   },
   "outputs": [],
   "source": [
    "# Creating data to be tested\n",
    "def KNN(train,test,k=10):\n",
    "    def euc_dist(x1,x2):\n",
    "        return np.sqrt(((x1-x2)**2).sum())\n",
    "    \n",
    "    # Calculating distance for each training data\n",
    "    dist=[]\n",
    "    for x in range(train.shape[0]):\n",
    "        d=euc_dist(train[x,:-1],test)\n",
    "        lab=train[x,-1]\n",
    "        dist.append([d,lab])\n",
    "        \n",
    "    # Sorting the list of distances    \n",
    "    d_sort=sorted(dist,key=lambda x: x[0])[:k][1]\n",
    "    \n",
    "    #Identifying the unique elements\n",
    "    d_unique=np.unique(d_sort[1],return_counts=True)\n",
    "    \n",
    "    #Getting the index with maximum number of arguments\n",
    "    index=np.argmax(d_unique[1])\n",
    "    return d_unique[0][index]\n",
    "\n"
   ]
  },
  {
   "cell_type": "code",
   "execution_count": 34,
   "metadata": {},
   "outputs": [
    {
     "name": "stdout",
     "output_type": "stream",
     "text": [
      "Points belongs to cluster  2.0\n"
     ]
    }
   ],
   "source": [
    "test=[2,3]\n",
    "class_lst=KNN(data,test)\n",
    "print (\"Points belongs to cluster \",class_lst+1)"
   ]
  },
  {
   "cell_type": "code",
   "execution_count": null,
   "metadata": {
    "collapsed": true
   },
   "outputs": [],
   "source": []
  }
 ],
 "metadata": {
  "kernelspec": {
   "display_name": "Python 3",
   "language": "python",
   "name": "python3"
  },
  "language_info": {
   "codemirror_mode": {
    "name": "ipython",
    "version": 3
   },
   "file_extension": ".py",
   "mimetype": "text/x-python",
   "name": "python",
   "nbconvert_exporter": "python",
   "pygments_lexer": "ipython3",
   "version": "3.6.2"
  }
 },
 "nbformat": 4,
 "nbformat_minor": 2
}
