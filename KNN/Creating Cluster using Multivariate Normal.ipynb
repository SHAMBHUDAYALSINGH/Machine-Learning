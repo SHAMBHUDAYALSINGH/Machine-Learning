{
 "cells": [
  {
   "cell_type": "markdown",
   "metadata": {},
   "source": [
    "# Define a function to generate 3 objects (A,B,C) with probability of Ocuurance as 0.3,0.2 and 0.5 respectively"
   ]
  },
  {
   "cell_type": "code",
   "execution_count": 1,
   "metadata": {
    "collapsed": true
   },
   "outputs": [],
   "source": [
    "import numpy as np"
   ]
  },
  {
   "cell_type": "code",
   "execution_count": 32,
   "metadata": {},
   "outputs": [],
   "source": [
    "def probocc():\n",
    "    data=np.random.rand(1001)\n",
    "    i,j,k=0,0,0\n",
    "    for x in data:\n",
    "        if x<=0.3:\n",
    "            i+=1\n",
    "        elif x<=0.5:\n",
    "            j+=1\n",
    "        else:\n",
    "             k+=1\n",
    "                \n",
    "    print(\"Probability of A is \",i/len(data)) \n",
    "    print(\"Probability of B is \",j/len(data))     \n",
    "    print(\"Probability of C is \",k/len(data))     \n"
   ]
  },
  {
   "cell_type": "code",
   "execution_count": 33,
   "metadata": {},
   "outputs": [
    {
     "name": "stdout",
     "output_type": "stream",
     "text": [
      "Probability of A is  0.2827172827172827\n",
      "Probability of B is  0.2057942057942058\n",
      "Probability of C is  0.5114885114885115\n"
     ]
    }
   ],
   "source": [
    "probocc()"
   ]
  },
  {
   "cell_type": "markdown",
   "metadata": {},
   "source": [
    "# Making Clusters"
   ]
  },
  {
   "cell_type": "code",
   "execution_count": 50,
   "metadata": {},
   "outputs": [],
   "source": [
    "mean_01=np.array([0.0,0.0])\n",
    "mean_02=np.array([10.0,10.0])\n",
    "\n",
    "cov_01=np.array([[3,.2],\n",
    "                 [.2,3]])\n",
    "cov_02=np.array([[3,.4],\n",
    "                [.4,3]])\n",
    "data_01=np.random.multivariate_normal(mean_01,cov_01,500)\n",
    "data_02=np.random.multivariate_normal(mean_02,cov_02,500)\n"
   ]
  },
  {
   "cell_type": "code",
   "execution_count": 43,
   "metadata": {
    "collapsed": true
   },
   "outputs": [],
   "source": [
    "import matplotlib.pyplot as plt\n",
    "%matplotlib inline"
   ]
  },
  {
   "cell_type": "code",
   "execution_count": 51,
   "metadata": {},
   "outputs": [
    {
     "data": {
      "image/png": "[encoded data removed]",
      "text/plain": [
       "<matplotlib.figure.Figure at 0x19f656c55f8>"
      ]
     },
     "metadata": {},
     "output_type": "display_data"
    }
   ],
   "source": [
    "plt.figure(0)\n",
    "plt.scatter(data_01[:,0],data_01[:,1])\n",
    "plt.scatter(data_02[:,0],data_02[:,1])\n",
    "plt.show()"
   ]
  },
  {
   "cell_type": "code",
   "execution_count": null,
   "metadata": {
    "collapsed": true
   },
   "outputs": [],
   "source": []
  }
 ],
 "metadata": {
  "kernelspec": {
   "display_name": "Python 3",
   "language": "python",
   "name": "python3"
  },
  "language_info": {
   "codemirror_mode": {
    "name": "ipython",
    "version": 3
   },
   "file_extension": ".py",
   "mimetype": "text/x-python",
   "name": "python",
   "nbconvert_exporter": "python",
   "pygments_lexer": "ipython3",
   "version": "3.6.2"
  }
 },
 "nbformat": 4,
 "nbformat_minor": 2
}
